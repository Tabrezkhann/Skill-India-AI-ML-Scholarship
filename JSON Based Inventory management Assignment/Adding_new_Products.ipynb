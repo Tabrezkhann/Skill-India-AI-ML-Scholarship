{
  "nbformat": 4,
  "nbformat_minor": 0,
  "metadata": {
    "colab": {
      "name": "Adding_new_Products.ipynb",
      "provenance": []
    },
    "kernelspec": {
      "name": "python3",
      "display_name": "Python 3"
    },
    "language_info": {
      "name": "python"
    }
  },
  "cells": [
    {
      "cell_type": "code",
      "metadata": {
        "id": "PcW4HTWj515-"
      },
      "source": [
        "import json"
      ],
      "execution_count": 7,
      "outputs": []
    },
    {
      "cell_type": "markdown",
      "metadata": {
        "id": "r9cRiHb7EcpW"
      },
      "source": [
        "**Read Data from JSON**"
      ]
    },
    {
      "cell_type": "code",
      "metadata": {
        "id": "9WToxarE2u1c"
      },
      "source": [
        "fd = open(\"record.json\",'r')\n",
        "r = fd.read()\n",
        "fd.close()\n",
        "\n",
        "record = json.loads(r)"
      ],
      "execution_count": 8,
      "outputs": []
    },
    {
      "cell_type": "code",
      "metadata": {
        "colab": {
          "base_uri": "https://localhost:8080/"
        },
        "id": "7IKlnrrJ5JjI",
        "outputId": "6001acbd-8e16-4b44-c1e3-cc903c007159"
      },
      "source": [
        "record"
      ],
      "execution_count": 9,
      "outputs": [
        {
          "output_type": "execute_result",
          "data": {
            "text/plain": [
              "{'1001': {'name': 'Choco Cake', 'pr': 100, 'qn': 34},\n",
              " '1002': {'name': 'Milk Cake', 'pr': 800, 'qn': 100},\n",
              " '1003': {'name': 'Drink', 'pr': 85, 'qn': 100},\n",
              " '1004': {'name': 'Candy', 'pr': 5, 'qn': 1000},\n",
              " '1005': {'name': 'Pen', 'pr': 20, 'qn': 100},\n",
              " '1006': {'name': 'Phone', 'pr': 50000, 'qn': 10},\n",
              " '1007': {'name': 'Mic', 'pr': 1500, 'qn': 0},\n",
              " '1008': {'name': 'Case', 'pr': 599, 'qn': 5},\n",
              " '1009': {'name': 'Keyboard', 'pr': 1999, 'qn': 10},\n",
              " '1010': {'name': 'cycle', 'pr': 1999, 'qn': 10},\n",
              " '1011': {'name': 'pen', 'pr': 1999, 'qn': 10},\n",
              " '1012': {'name': 'book', 'pr': 19949, 'qn': 101},\n",
              " '1013': {'name': 'bag', 'pr': 999, 'qn': 14},\n",
              " '1014': {'name': 'pencil', 'pr': 1999, 'qn': 15},\n",
              " '1015': {'name': 'car', 'pr': 19969, 'qn': 120},\n",
              " '1016': {'name': 'Keyboard', 'pr': 99, 'qn': 34},\n",
              " '1017': {'name': 'torch', 'pr': 1999, 'qn': 17},\n",
              " '1018': {'name': 'cream', 'pr': 195699, 'qn': 130},\n",
              " '1019': {'name': 'Keyboard', 'pr': 1799, 'qn': 56},\n",
              " '1020': {'name': 'fish', 'pr': 19, 'qn': 40},\n",
              " '1021': {'name': 'cup', 'pr': 19449, 'qn': 1},\n",
              " '1022': {'name': 'shoes', 'pr': 1999, 'qn': 13},\n",
              " '1023': {'name': 'ipod', 'pr': 1969, 'qn': 60},\n",
              " '1024': {'name': 'Keyboard', 'pr': 1969, 'qn': 140},\n",
              " '1025': {'name': 'cream', 'pr': 1999, 'qn': 144},\n",
              " '1026': {'name': 'psp', 'pr': 1999, 'qn': 70},\n",
              " '1027': {'name': 'Keyboard', 'pr': 199, 'qn': 15},\n",
              " '1028': {'name': 'mobile', 'pr': 1999, 'qn': 120},\n",
              " '1029': {'name': 'bike', 'pr': 1999, 'qn': 330},\n",
              " '1030': {'name': 'camera', 'pr': 1959, 'qn': 22}}"
            ]
          },
          "metadata": {},
          "execution_count": 9
        }
      ]
    },
    {
      "cell_type": "markdown",
      "metadata": {
        "id": "ZbML6G43E9QD"
      },
      "source": [
        "**Add New Item into Inventory**"
      ]
    },
    {
      "cell_type": "code",
      "metadata": {
        "colab": {
          "base_uri": "https://localhost:8080/"
        },
        "id": "qcQOZaEI6G8M",
        "outputId": "20b55357-a302-4ee3-8680-517cc8eb5481"
      },
      "source": [
        "prod_id = str(input(\"Enter product id:\"))\n",
        "name = str(input(\"Enter name:\"))\n",
        "pr = int(input(\"Enter price:\"))\n",
        "qn = int(input(\"Enter quantity:\"))\n",
        "\n",
        "record[prod_id] = {'name': name, 'pr': pr, 'qn': qn}\n",
        "\n",
        "js = json.dumps(record)\n",
        "\n",
        "fd = open(\"record.json\",'w')\n",
        "fd.write(js)\n",
        "fd.close()"
      ],
      "execution_count": 13,
      "outputs": [
        {
          "name": "stdout",
          "output_type": "stream",
          "text": [
            "Enter product id:1031\n",
            "Enter name:doremon\n",
            "Enter price:1000000\n",
            "Enter quantity:1\n"
          ]
        }
      ]
    },
    {
      "cell_type": "code",
      "metadata": {
        "colab": {
          "base_uri": "https://localhost:8080/"
        },
        "id": "vt_efvjY63Ce",
        "outputId": "d2079975-f176-46d6-fd2c-e75defe2361d"
      },
      "source": [
        "record"
      ],
      "execution_count": 14,
      "outputs": [
        {
          "output_type": "execute_result",
          "data": {
            "text/plain": [
              "{'1001': {'name': 'Choco Cake', 'pr': 100, 'qn': 34},\n",
              " '1002': {'name': 'Milk Cake', 'pr': 800, 'qn': 100},\n",
              " '1003': {'name': 'Drink', 'pr': 85, 'qn': 100},\n",
              " '1004': {'name': 'Candy', 'pr': 5, 'qn': 1000},\n",
              " '1005': {'name': 'Pen', 'pr': 20, 'qn': 100},\n",
              " '1006': {'name': 'Phone', 'pr': 50000, 'qn': 10},\n",
              " '1007': {'name': 'Game', 'pr': 2999, 'qn': 2},\n",
              " '1008': {'name': 'Case', 'pr': 599, 'qn': 5},\n",
              " '1009': {'name': 'Keyboard', 'pr': 1999, 'qn': 10},\n",
              " '1010': {'name': 'cycle', 'pr': 1999, 'qn': 10},\n",
              " '1011': {'name': 'pen', 'pr': 1999, 'qn': 10},\n",
              " '1012': {'name': 'book', 'pr': 19949, 'qn': 101},\n",
              " '1013': {'name': 'bag', 'pr': 999, 'qn': 14},\n",
              " '1014': {'name': 'pencil', 'pr': 1999, 'qn': 15},\n",
              " '1015': {'name': 'car', 'pr': 19969, 'qn': 120},\n",
              " '1016': {'name': 'Keyboard', 'pr': 99, 'qn': 34},\n",
              " '1017': {'name': 'torch', 'pr': 1999, 'qn': 17},\n",
              " '1018': {'name': 'cream', 'pr': 195699, 'qn': 130},\n",
              " '1019': {'name': 'Keyboard', 'pr': 1799, 'qn': 56},\n",
              " '1020': {'name': 'fish', 'pr': 19, 'qn': 40},\n",
              " '1021': {'name': 'cup', 'pr': 19449, 'qn': 1},\n",
              " '1022': {'name': 'shoes', 'pr': 1999, 'qn': 13},\n",
              " '1023': {'name': 'ipod', 'pr': 1969, 'qn': 60},\n",
              " '1024': {'name': 'Keyboard', 'pr': 1969, 'qn': 140},\n",
              " '1025': {'name': 'cream', 'pr': 1999, 'qn': 144},\n",
              " '1026': {'name': 'psp', 'pr': 1999, 'qn': 70},\n",
              " '1027': {'name': 'Keyboard', 'pr': 199, 'qn': 15},\n",
              " '1028': {'name': 'mobile', 'pr': 1999, 'qn': 120},\n",
              " '1029': {'name': 'bike', 'pr': 1999, 'qn': 330},\n",
              " '1030': {'name': 'camera', 'pr': 1959, 'qn': 22},\n",
              " '1031': {'name': 'doremon', 'pr': 1000000, 'qn': 1}}"
            ]
          },
          "metadata": {},
          "execution_count": 14
        }
      ]
    },
    {
      "cell_type": "markdown",
      "metadata": {
        "id": "DVHiQ5DjETx_"
      },
      "source": [
        ""
      ]
    }
  ]
}