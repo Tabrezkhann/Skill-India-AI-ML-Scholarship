{
  "nbformat": 4,
  "nbformat_minor": 0,
  "metadata": {
    "colab": {
      "name": "Purchasing_Products.ipynb",
      "provenance": []
    },
    "kernelspec": {
      "name": "python3",
      "display_name": "Python 3"
    },
    "language_info": {
      "name": "python"
    }
  },
  "cells": [
    {
      "cell_type": "markdown",
      "metadata": {
        "id": "kZNf94W7FWQc"
      },
      "source": [
        "**Read Inventory**"
      ]
    },
    {
      "cell_type": "code",
      "metadata": {
        "id": "RWKGWL_t8KaM"
      },
      "source": [
        "import json\n",
        "\n",
        "fd = open(\"record.json\",'r')\n",
        "r = fd.read()\n",
        "fd.close()\n",
        "\n",
        "records = json.loads(r)"
      ],
      "execution_count": 2,
      "outputs": []
    },
    {
      "cell_type": "code",
      "metadata": {
        "colab": {
          "base_uri": "https://localhost:8080/"
        },
        "id": "g3AUOrU28l2R",
        "outputId": "bb33c867-5437-441a-eaf8-518a9ea327ed"
      },
      "source": [
        "records"
      ],
      "execution_count": 31,
      "outputs": [
        {
          "output_type": "execute_result",
          "data": {
            "text/plain": [
              "{'1001': {'name': 'Choco Cake', 'pr': 100, 'qn': 32},\n",
              " '1002': {'name': 'Milk Cake', 'pr': 800, 'qn': 100},\n",
              " '1003': {'name': 'Drink', 'pr': 85, 'qn': 100},\n",
              " '1004': {'name': 'Candy', 'pr': 5, 'qn': 1000},\n",
              " '1005': {'name': 'Pen', 'pr': 20, 'qn': 100},\n",
              " '1006': {'name': 'Phone', 'pr': 50000, 'qn': 10},\n",
              " '1007': {'name': 'Game', 'pr': 2999, 'qn': 2},\n",
              " '1008': {'name': 'Case', 'pr': 599, 'qn': 5},\n",
              " '1009': {'name': 'Keyboard', 'pr': 1999, 'qn': 10},\n",
              " '1010': {'name': 'cycle', 'pr': 1999, 'qn': 5},\n",
              " '1011': {'name': 'pen', 'pr': 1999, 'qn': 10},\n",
              " '1012': {'name': 'book', 'pr': 19949, 'qn': 101},\n",
              " '1013': {'name': 'bag', 'pr': 999, 'qn': 14},\n",
              " '1014': {'name': 'pencil', 'pr': 1999, 'qn': 15},\n",
              " '1015': {'name': 'car', 'pr': 19969, 'qn': 120},\n",
              " '1016': {'name': 'Keyboard', 'pr': 99, 'qn': 34},\n",
              " '1017': {'name': 'torch', 'pr': 1999, 'qn': 17},\n",
              " '1018': {'name': 'cream', 'pr': 195699, 'qn': 130},\n",
              " '1019': {'name': 'Keyboard', 'pr': 1799, 'qn': 56},\n",
              " '1020': {'name': 'fish', 'pr': 19, 'qn': 40},\n",
              " '1021': {'name': 'cup', 'pr': 19449, 'qn': 1},\n",
              " '1022': {'name': 'shoes', 'pr': 1999, 'qn': 13},\n",
              " '1023': {'name': 'ipod', 'pr': 1969, 'qn': 60},\n",
              " '1024': {'name': 'Keyboard', 'pr': 1969, 'qn': 140},\n",
              " '1025': {'name': 'cream', 'pr': 1999, 'qn': 144},\n",
              " '1026': {'name': 'psp', 'pr': 1999, 'qn': 70},\n",
              " '1027': {'name': 'Keyboard', 'pr': 199, 'qn': 15},\n",
              " '1028': {'name': 'mobile', 'pr': 1999, 'qn': 120},\n",
              " '1029': {'name': 'bike', 'pr': 1999, 'qn': 330},\n",
              " '1030': {'name': 'camera', 'pr': 1959, 'qn': 22},\n",
              " '1031': {'name': 'doremon', 'pr': 1000000, 'qn': 1}}"
            ]
          },
          "metadata": {},
          "execution_count": 31
        }
      ]
    },
    {
      "cell_type": "markdown",
      "metadata": {
        "id": "dMUe9BslFckR"
      },
      "source": [
        "**Purchase**"
      ]
    },
    {
      "cell_type": "code",
      "metadata": {
        "colab": {
          "base_uri": "https://localhost:8080/"
        },
        "id": "OklxL_zD8trc",
        "outputId": "0b433b0a-62c9-4651-fac2-0486571858f3"
      },
      "source": [
        "ui_prod  = str(input(\"Enter the product_Id: \"))\n",
        "ui_quant = int(input(\"Enter the quantity: \"))\n",
        "\n",
        "\n",
        "print(\"Product: \", records[ui_prod]['name'])\n",
        "print(\"Price: \", records[ui_prod]['pr'])\n",
        "print(\"Billing Amount: \", records[ui_prod]['pr'] * ui_quant)\n",
        "\n",
        "records[ui_prod]['qn'] = records[ui_prod]['qn'] - ui_quant"
      ],
      "execution_count": 89,
      "outputs": [
        {
          "output_type": "stream",
          "name": "stdout",
          "text": [
            "Enter the product_Id: 1027\n",
            "Enter the quantity: 2\n",
            "Product:  Keyboard\n",
            "Price:  199\n",
            "Billing Amount:  398\n"
          ]
        }
      ]
    },
    {
      "cell_type": "code",
      "metadata": {
        "colab": {
          "base_uri": "https://localhost:8080/"
        },
        "id": "Cvw16p9d9hoj",
        "outputId": "ee034206-50a2-43e5-d4f1-cff236ef183f"
      },
      "source": [
        "records"
      ],
      "execution_count": 90,
      "outputs": [
        {
          "output_type": "execute_result",
          "data": {
            "text/plain": [
              "{'1001': {'name': 'Choco Cake', 'pr': 100, 'qn': 32},\n",
              " '1002': {'name': 'Milk Cake', 'pr': 800, 'qn': 100},\n",
              " '1003': {'name': 'Drink', 'pr': 85, 'qn': 100},\n",
              " '1004': {'name': 'Candy', 'pr': 5, 'qn': 1000},\n",
              " '1005': {'name': 'Pen', 'pr': 20, 'qn': 100},\n",
              " '1006': {'name': 'Phone', 'pr': 50000, 'qn': 10},\n",
              " '1007': {'name': 'Game', 'pr': 2999, 'qn': 2},\n",
              " '1008': {'name': 'Case', 'pr': 599, 'qn': 5},\n",
              " '1009': {'name': 'Keyboard', 'pr': 1999, 'qn': 10},\n",
              " '1010': {'name': 'cycle', 'pr': 1999, 'qn': 5},\n",
              " '1011': {'name': 'pen', 'pr': 1999, 'qn': 8},\n",
              " '1012': {'name': 'book', 'pr': 19949, 'qn': 101},\n",
              " '1013': {'name': 'bag', 'pr': 999, 'qn': 14},\n",
              " '1014': {'name': 'pencil', 'pr': 1999, 'qn': 15},\n",
              " '1015': {'name': 'car', 'pr': 19969, 'qn': 120},\n",
              " '1016': {'name': 'Keyboard', 'pr': 99, 'qn': 34},\n",
              " '1017': {'name': 'torch', 'pr': 1999, 'qn': 17},\n",
              " '1018': {'name': 'cream', 'pr': 195699, 'qn': 130},\n",
              " '1019': {'name': 'Keyboard', 'pr': 1799, 'qn': 56},\n",
              " '1020': {'name': 'fish', 'pr': 19, 'qn': 40},\n",
              " '1021': {'name': 'cup', 'pr': 19449, 'qn': 1},\n",
              " '1022': {'name': 'shoes', 'pr': 1999, 'qn': 12},\n",
              " '1023': {'name': 'ipod', 'pr': 1969, 'qn': 60},\n",
              " '1024': {'name': 'Keyboard', 'pr': 1969, 'qn': 137},\n",
              " '1025': {'name': 'cream', 'pr': 1999, 'qn': 141},\n",
              " '1026': {'name': 'psp', 'pr': 1999, 'qn': 70},\n",
              " '1027': {'name': 'Keyboard', 'pr': 199, 'qn': 13},\n",
              " '1028': {'name': 'mobile', 'pr': 1999, 'qn': 120},\n",
              " '1029': {'name': 'bike', 'pr': 1999, 'qn': 329},\n",
              " '1030': {'name': 'camera', 'pr': 1959, 'qn': 2},\n",
              " '1031': {'name': 'doremon', 'pr': 1000000, 'qn': 1}}"
            ]
          },
          "metadata": {},
          "execution_count": 90
        }
      ]
    },
    {
      "cell_type": "markdown",
      "metadata": {
        "id": "MivrfCWdFkJp"
      },
      "source": [
        "**Update Inventory after purchase**"
      ]
    },
    {
      "cell_type": "code",
      "metadata": {
        "id": "nTczwnFP8tdz"
      },
      "source": [
        "js = json.dumps(records)\n",
        "\n",
        "fd = open(\"record.json\",'w')\n",
        "fd.write(js)\n",
        "fd.close()"
      ],
      "execution_count": 91,
      "outputs": []
    },
    {
      "cell_type": "markdown",
      "metadata": {
        "id": "dYHY8ANaFpPQ"
      },
      "source": [
        "**Sales JSON**"
      ]
    },
    {
      "cell_type": "code",
      "metadata": {
        "id": "KAODJD2IA4Oj"
      },
      "source": [
        "sales[len(sales) + 1] = {'prod' : ui_prod, 'qn' : ui_quant, 'amount': records[ui_prod]['pr'] * ui_quant}"
      ],
      "execution_count": 92,
      "outputs": []
    },
    {
      "cell_type": "code",
      "metadata": {
        "colab": {
          "base_uri": "https://localhost:8080/"
        },
        "id": "sURVcusmBDLI",
        "outputId": "ab6cf3df-79ef-42d4-cba4-bb6c398358c5"
      },
      "source": [
        "sales"
      ],
      "execution_count": 93,
      "outputs": [
        {
          "output_type": "execute_result",
          "data": {
            "text/plain": [
              "{1: {'amount': 9995, 'prod': '1010', 'qn': 5},\n",
              " 2: {'amount': 9995, 'prod': '1010', 'qn': 5},\n",
              " 3: {'amount': 39180, 'prod': '1030', 'qn': 20},\n",
              " 4: {'amount': 3938, 'prod': '1024', 'qn': 2},\n",
              " 5: {'amount': 1969, 'prod': '1024', 'qn': 1},\n",
              " 6: {'amount': 1999, 'prod': '1029', 'qn': 1},\n",
              " 7: {'amount': 3998, 'prod': '1011', 'qn': 2},\n",
              " 8: {'amount': 1999, 'prod': '1022', 'qn': 1},\n",
              " 9: {'amount': 5997, 'prod': '1025', 'qn': 3},\n",
              " 10: {'amount': 398, 'prod': '1027', 'qn': 2}}"
            ]
          },
          "metadata": {},
          "execution_count": 93
        }
      ]
    },
    {
      "cell_type": "code",
      "metadata": {
        "id": "bB4W0yLU9IZd"
      },
      "source": [
        "sale = json.dumps(sales)"
      ],
      "execution_count": 94,
      "outputs": []
    },
    {
      "cell_type": "code",
      "metadata": {
        "id": "wPX4NxLx-gwT"
      },
      "source": [
        "fd = open(\"sales.json\",'w')\n",
        "fd.write(sale)\n",
        "fd.close()"
      ],
      "execution_count": 95,
      "outputs": []
    },
    {
      "cell_type": "code",
      "metadata": {
        "colab": {
          "base_uri": "https://localhost:8080/"
        },
        "id": "pu3dnCrOBiTo",
        "outputId": "a3595a78-1224-48dd-b0a4-0c433c9003a7"
      },
      "source": [
        "sales"
      ],
      "execution_count": 96,
      "outputs": [
        {
          "output_type": "execute_result",
          "data": {
            "text/plain": [
              "{1: {'amount': 9995, 'prod': '1010', 'qn': 5},\n",
              " 2: {'amount': 9995, 'prod': '1010', 'qn': 5},\n",
              " 3: {'amount': 39180, 'prod': '1030', 'qn': 20},\n",
              " 4: {'amount': 3938, 'prod': '1024', 'qn': 2},\n",
              " 5: {'amount': 1969, 'prod': '1024', 'qn': 1},\n",
              " 6: {'amount': 1999, 'prod': '1029', 'qn': 1},\n",
              " 7: {'amount': 3998, 'prod': '1011', 'qn': 2},\n",
              " 8: {'amount': 1999, 'prod': '1022', 'qn': 1},\n",
              " 9: {'amount': 5997, 'prod': '1025', 'qn': 3},\n",
              " 10: {'amount': 398, 'prod': '1027', 'qn': 2}}"
            ]
          },
          "metadata": {},
          "execution_count": 96
        }
      ]
    }
  ]
}